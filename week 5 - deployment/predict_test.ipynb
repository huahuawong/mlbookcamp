{
 "cells": [
  {
   "cell_type": "code",
   "execution_count": 1,
   "id": "83c80138",
   "metadata": {},
   "outputs": [],
   "source": [
    "import requests"
   ]
  },
  {
   "cell_type": "code",
   "execution_count": 2,
   "id": "6c4d8631",
   "metadata": {},
   "outputs": [],
   "source": [
    "url = 'http://localhost:9696/predict'"
   ]
  },
  {
   "cell_type": "code",
   "execution_count": 7,
   "id": "2e09d8e3",
   "metadata": {},
   "outputs": [],
   "source": [
    "customer = {\"contract\": \"two_year\", \n",
    "            \"tenure\": 1, \n",
    "            \"monthlycharges\": 10}"
   ]
  },
  {
   "cell_type": "code",
   "execution_count": 8,
   "id": "6e40b73b",
   "metadata": {},
   "outputs": [],
   "source": [
    "response = requests.post(url, json=customer).json()"
   ]
  },
  {
   "cell_type": "code",
   "execution_count": 9,
   "id": "929c9c76",
   "metadata": {},
   "outputs": [
    {
     "data": {
      "text/plain": [
       "{'Churn': False, 'Churn probability': 0.32940789808151005}"
      ]
     },
     "execution_count": 9,
     "metadata": {},
     "output_type": "execute_result"
    }
   ],
   "source": [
    "response"
   ]
  },
  {
   "cell_type": "code",
   "execution_count": 10,
   "id": "5775e72f",
   "metadata": {},
   "outputs": [
    {
     "name": "stdout",
     "output_type": "stream",
     "text": [
      "Low Churn Probaility\n"
     ]
    }
   ],
   "source": [
    "if response['Churn']:\n",
    "    print(\"Send promo email\")\n",
    "else:\n",
    "    print(\"Low Churn Probaility\")"
   ]
  },
  {
   "cell_type": "code",
   "execution_count": null,
   "id": "84cebdd1",
   "metadata": {},
   "outputs": [],
   "source": []
  }
 ],
 "metadata": {
  "kernelspec": {
   "display_name": "Python [conda env:python_gpu]",
   "language": "python",
   "name": "conda-env-python_gpu-py"
  },
  "language_info": {
   "codemirror_mode": {
    "name": "ipython",
    "version": 3
   },
   "file_extension": ".py",
   "mimetype": "text/x-python",
   "name": "python",
   "nbconvert_exporter": "python",
   "pygments_lexer": "ipython3",
   "version": "3.8.10"
  }
 },
 "nbformat": 4,
 "nbformat_minor": 5
}
